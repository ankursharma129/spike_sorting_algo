{
 "cells": [
  {
   "cell_type": "markdown",
   "id": "18e2addb",
   "metadata": {},
   "source": [
    "### Demo of the final CPP algorithm. \n",
    "\n",
    "If the direction changes happened in UDU (up-down-up) or DUD (down-up-down) fashion and if \n",
    "- the corresponding peak was higher than 3.5 * std_dev \n",
    "- the left and right parts of the peak were above the mean and \n",
    "- if height of peak from the mean was higher than the hight of either left and right parts of the UDU and DUD complex, I classified it as a spike."
   ]
  },
  {
   "cell_type": "code",
   "execution_count": 1,
   "id": "18db0395",
   "metadata": {},
   "outputs": [],
   "source": [
    "import numpy as np\n",
    "import pylab as pl"
   ]
  },
  {
   "cell_type": "code",
   "execution_count": 2,
   "id": "379abfda",
   "metadata": {},
   "outputs": [],
   "source": [
    "## reading original spikes, and the ones read from cpp processed files\n",
    "cppResult = np.loadtxt('./data/demo_spikes_5.dat');\n",
    "origSpikes = np.loadtxt('./data/spikes5.dat');\n",
    "output = np.loadtxt('./data/output5.dat');"
   ]
  },
  {
   "cell_type": "code",
   "execution_count": 3,
   "id": "97e28366",
   "metadata": {},
   "outputs": [
    {
     "name": "stdout",
     "output_type": "stream",
     "text": [
      "['', '', ''] [0, 0, -16.0]\n",
      "['', '', 'down'] [0, -16.0, -28.0]\n",
      "['', 'down', 'up'] [-16.0, -28.0, -23.0]\n",
      "['down', 'up', 'down'] [-28.0, -23.0, -26.0]\n",
      "['up', 'down', 'up'] [-23.0, -26.0, -25.0]\n",
      "['down', 'up', 'down'] [-26.0, -25.0, -28.0]\n",
      "['up', 'down', 'up'] [-25.0, -28.0, 80.0]\n",
      "['down', 'up', 'down'] [-28.0, 80.0, -122.0]\n",
      "['up', 'down', 'up'] [80.0, -122.0, -16.0]\n",
      "udu\n",
      "['down', 'up', 'down'] [-122.0, -16.0, -27.0]\n",
      "['up', 'down', 'up'] [-16.0, -27.0, -15.0]\n",
      "['down', 'up', 'down'] [-27.0, -15.0, -31.0]\n"
     ]
    }
   ],
   "source": [
    "## lookahead smoothing:\n",
    "\n",
    "inputArr = output[560:600]\n",
    "outputArr = np.zeros(len(inputArr))\n",
    "\n",
    "buffLen = 0\n",
    "currDir = \"\"\n",
    "prevDir = \"\"\n",
    "currLow = 5000\n",
    "currHigh = -5000\n",
    "three_state_values = [0, 0, 0]\n",
    "three_previous_states = [\"\", \"\", \"\"]\n",
    "three_states = [\"\", \"\", \"\"]\n",
    "peaks = 0\n",
    "\n",
    "def replaceBuff(i, b, val, three_states):\n",
    "    outputArr[i-b:i+1] = val\n",
    "    print(three_states, three_state_values)\n",
    "    if (three_states[0]==\"down\" and three_states[1]==\"up\" and three_states[2]==\"down\") and (three_state_values[0] < -50 and\n",
    "                                                                                           three_state_values[1]>100 and \n",
    "                                                                                           three_state_values[2]<-50):\n",
    "        print(\"dud\")\n",
    "\n",
    "    if (three_states[0]==\"up\" and three_states[1]==\"down\" and three_states[2]==\"up\") and (\n",
    "                                                                                          three_state_values[0] < 150 and\n",
    "                                                                                           three_state_values[1]<-100 and\n",
    "                                                                                         three_state_values[2]<150):\n",
    "        print(\"udu\")\n",
    "\n",
    "\n",
    "\n",
    "for i in range(1, len(inputArr)):\n",
    "    if inputArr[i]<=inputArr[i-1]:\n",
    "        currDir = \"down\"\n",
    "        buffLen += 1\n",
    "        if currDir!=prevDir:\n",
    "#             print(three_states, three_state_values)\n",
    "            currHigh = inputArr[i-1]\n",
    "            three_states[:-1] = three_states[1:]\n",
    "            three_state_values[:-1] = three_state_values[1:]\n",
    "            three_state_values[2] = currHigh\n",
    "            three_states[2] = prevDir\n",
    "            replaceBuff(i, buffLen, currHigh, three_states)\n",
    "            buffLen = 0\n",
    "        \n",
    "    if inputArr[i]>=inputArr[i-1]:\n",
    "        currDir = \"up\"\n",
    "        buffLen += 1\n",
    "        if currDir!=prevDir:\n",
    "#             print(three_states, three_state_values)\n",
    "            currLow = inputArr[i-1]\n",
    "            three_states[:-1] = three_states[1:]\n",
    "            three_state_values[:-1] = three_state_values[1:]\n",
    "            three_state_values[2] = currLow\n",
    "            three_states[2] = prevDir\n",
    "            replaceBuff(i, buffLen, currLow, three_states)\n",
    "            buffLen = 0\n",
    "        \n",
    "    prevDir = currDir"
   ]
  },
  {
   "cell_type": "code",
   "execution_count": 4,
   "id": "17d7e731",
   "metadata": {},
   "outputs": [
    {
     "data": {
      "image/png": "[encoded data removed]",
      "text/plain": [
       "<Figure size 432x288 with 1 Axes>"
      ]
     },
     "metadata": {
      "needs_background": "light"
     },
     "output_type": "display_data"
    }
   ],
   "source": [
    "# pl.plot(inputArr)\n",
    "pl.plot(outputArr[:2000])\n",
    "pl.show()"
   ]
  },
  {
   "cell_type": "code",
   "execution_count": null,
   "id": "d5eb6de9",
   "metadata": {},
   "outputs": [],
   "source": []
  }
 ],
 "metadata": {
  "kernelspec": {
   "display_name": "Python 3 (ipykernel)",
   "language": "python",
   "name": "python3"
  },
  "language_info": {
   "codemirror_mode": {
    "name": "ipython",
    "version": 3
   },
   "file_extension": ".py",
   "mimetype": "text/x-python",
   "name": "python",
   "nbconvert_exporter": "python",
   "pygments_lexer": "ipython3",
   "version": "3.9.12"
  }
 },
 "nbformat": 4,
 "nbformat_minor": 5
}
